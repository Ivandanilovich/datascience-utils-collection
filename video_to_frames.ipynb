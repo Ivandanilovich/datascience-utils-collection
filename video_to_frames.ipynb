{
 "nbformat": 4,
 "nbformat_minor": 2,
 "metadata": {
  "language_info": {
   "name": "python",
   "codemirror_mode": {
    "name": "ipython",
    "version": 3
   },
   "version": "3.7.4-final"
  },
  "orig_nbformat": 2,
  "file_extension": ".py",
  "mimetype": "text/x-python",
  "name": "python",
  "npconvert_exporter": "python",
  "pygments_lexer": "ipython3",
  "version": 3,
  "kernelspec": {
   "name": "python37464bittorchenvcondad9794d3aca6f463a819b3aaf2110e971",
   "display_name": "Python 3.7.4 64-bit ('torch_env': conda)"
  }
 },
 "cells": [
  {
   "cell_type": "code",
   "execution_count": 1,
   "metadata": {},
   "outputs": [],
   "source": [
    "import cv2, os"
   ]
  },
  {
   "cell_type": "code",
   "execution_count": 2,
   "metadata": {},
   "outputs": [],
   "source": [
    "destination_path = ''\n",
    "vidcap = cv2.VideoCapture('') # path to video "
   ]
  },
  {
   "cell_type": "code",
   "execution_count": null,
   "metadata": {},
   "outputs": [],
   "source": [
    "%%time\n",
    "success, image = vidcap.read()\n",
    "count = 0\n",
    "while success:\n",
    "    cv2.imwrite(path+\"%d.jpg\" % count, image) \n",
    "    success,image = vidcap.read()\n",
    "    count += 1"
   ]
  }
 ]
}